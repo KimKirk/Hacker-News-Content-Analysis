{
 "cells": [
  {
   "cell_type": "markdown",
   "metadata": {
    "collapsed": true
   },
   "source": [
    "# Hacker News Content Analysis"
   ]
  },
  {
   "cell_type": "markdown",
   "metadata": {},
   "source": [
    "## Analysis of Hacker News Content to Determine Visitor Analytics"
   ]
  },
  {
   "cell_type": "markdown",
   "metadata": {},
   "source": [
    "#### *Kim Kirk* <br> *July 13, 2020*"
   ]
  },
  {
   "cell_type": "markdown",
   "metadata": {},
   "source": [
    "## Synopsis"
   ]
  },
  {
   "cell_type": "markdown",
   "metadata": {},
   "source": [
    "A descriptive multivariate data analysis was conducted on Hacker News posts. 20,000 rows from Kaggle were imported, cleaned, and analyzed. Content analysis was conducted to identify which post types received the most comments and the top 5 hours in which to make comments, with the idea that Hacker News is extremely popular in technology circles, and posts that make it to the top of Hacker News' listings can get hundreds of thousands of visitors; thus, increase the profile of the subject matter in the posts."
   ]
  },
  {
   "cell_type": "markdown",
   "metadata": {},
   "source": [
    "### Data Processing"
   ]
  },
  {
   "cell_type": "markdown",
   "metadata": {},
   "source": [
    "\n",
    "Import necessary libraries and the data set. Explore the data set."
   ]
  },
  {
   "cell_type": "code",
   "execution_count": 1,
   "metadata": {
    "scrolled": true
   },
   "outputs": [
    {
     "name": "stdout",
     "output_type": "stream",
     "text": [
      "[['id', 'title', 'url', 'num_points', 'num_comments', 'author', 'created_at'], ['12224879', 'Interactive Dynamic Video', 'http://www.interactivedynamicvideo.com/', '386', '52', 'ne0phyte', '8/4/2016 11:52'], ['10975351', 'How to Use Open Source and Shut the Fuck Up at the Same Time', 'http://hueniverse.com/2016/01/26/how-to-use-open-source-and-shut-the-fuck-up-at-the-same-time/', '39', '10', 'josep2', '1/26/2016 19:30'], ['11964716', \"Florida DJs May Face Felony for April Fools' Water Joke\", 'http://www.thewire.com/entertainment/2013/04/florida-djs-april-fools-water-joke/63798/', '2', '1', 'vezycash', '6/23/2016 22:20'], ['11919867', 'Technology ventures: From Idea to Enterprise', 'https://www.amazon.com/Technology-Ventures-Enterprise-Thomas-Byers/dp/0073523429', '3', '1', 'hswarna', '6/17/2016 0:01'], ['10301696', 'Note by Note: The Making of Steinway L1037 (2007)', 'http://www.nytimes.com/2007/11/07/movies/07stein.html?_r=0', '8', '2', 'walterbell', '9/30/2015 4:12']]\n"
     ]
    }
   ],
   "source": [
    "import csv as csv\n",
    "import pandas as pd\n",
    "\n",
    "open_data = open('hacker_news.csv')\n",
    "read_file = csv.reader(open_data)\n",
    "hn = list(read_file)\n",
    "open_data.close()\n",
    "\n",
    "print(hn[0:6])"
   ]
  },
  {
   "cell_type": "markdown",
   "metadata": {},
   "source": [
    "Remove headers to faciliate ease of data analysis."
   ]
  },
  {
   "cell_type": "code",
   "execution_count": 2,
   "metadata": {},
   "outputs": [
    {
     "name": "stdout",
     "output_type": "stream",
     "text": [
      "Headers\n",
      "['id', 'title', 'url', 'num_points', 'num_comments', 'author', 'created_at']\n",
      "\n",
      "\n",
      "First 5 rows of data set\n",
      "[['12224879', 'Interactive Dynamic Video', 'http://www.interactivedynamicvideo.com/', '386', '52', 'ne0phyte', '8/4/2016 11:52'], ['10975351', 'How to Use Open Source and Shut the Fuck Up at the Same Time', 'http://hueniverse.com/2016/01/26/how-to-use-open-source-and-shut-the-fuck-up-at-the-same-time/', '39', '10', 'josep2', '1/26/2016 19:30'], ['11964716', \"Florida DJs May Face Felony for April Fools' Water Joke\", 'http://www.thewire.com/entertainment/2013/04/florida-djs-april-fools-water-joke/63798/', '2', '1', 'vezycash', '6/23/2016 22:20'], ['11919867', 'Technology ventures: From Idea to Enterprise', 'https://www.amazon.com/Technology-Ventures-Enterprise-Thomas-Byers/dp/0073523429', '3', '1', 'hswarna', '6/17/2016 0:01'], ['10301696', 'Note by Note: The Making of Steinway L1037 (2007)', 'http://www.nytimes.com/2007/11/07/movies/07stein.html?_r=0', '8', '2', 'walterbell', '9/30/2015 4:12'], ['10482257', 'Title II kills investment? Comcast and other ISPs are now spending more', 'http://arstechnica.com/business/2015/10/comcast-and-other-isps-boost-network-investment-despite-net-neutrality/', '53', '22', 'Deinos', '10/31/2015 9:48']]\n"
     ]
    }
   ],
   "source": [
    "headers = hn[0]\n",
    "print(\"Headers\")\n",
    "print(headers)\n",
    "hn = hn[1:]\n",
    "print(\"\\n\")\n",
    "print(\"First 5 rows of data set\")\n",
    "print(hn[0:6])"
   ]
  },
  {
   "cell_type": "markdown",
   "metadata": {},
   "source": [
    "### Exploratory Data Analysis"
   ]
  },
  {
   "cell_type": "markdown",
   "metadata": {},
   "source": [
    "Retrieve posts that begin with \"Ask HN\" or \"Show HN\"; these are the posts to analyze."
   ]
  },
  {
   "cell_type": "code",
   "execution_count": 3,
   "metadata": {},
   "outputs": [
    {
     "name": "stdout",
     "output_type": "stream",
     "text": [
      "Ask posts have  1744  number of posts\n",
      "Show posts have  1162  number of posts\n",
      "Other types of posts have  17194  number of posts\n"
     ]
    }
   ],
   "source": [
    "ask_posts = []\n",
    "show_posts = []\n",
    "other_posts = []\n",
    "\n",
    "for row in hn:\n",
    "    title = row[1]\n",
    "    if title.lower().startswith('ask hn'):\n",
    "        ask_posts.append(row)\n",
    "    elif title.lower().startswith('show hn'):\n",
    "        show_posts.append(row)\n",
    "    else:\n",
    "        other_posts.append(row)\n",
    "\n",
    "print('Ask posts have ', len(ask_posts), ' number of posts')\n",
    "print('Show posts have ', len(show_posts), ' number of posts')\n",
    "print('Other types of posts have ', len(other_posts), ' number of posts')\n"
   ]
  },
  {
   "cell_type": "markdown",
   "metadata": {},
   "source": [
    "Identify which types of posts receive more comments on average."
   ]
  },
  {
   "cell_type": "code",
   "execution_count": 4,
   "metadata": {},
   "outputs": [
    {
     "name": "stdout",
     "output_type": "stream",
     "text": [
      "Average number of \"ask\" posts is  14.038417431192661\n",
      "Average number of \"show\" posts is  10.31669535283993\n"
     ]
    }
   ],
   "source": [
    "total_ask_comments = 0\n",
    "\n",
    "for row in ask_posts:\n",
    "    total_ask_comments += int(row[4])\n",
    "    \n",
    "avg_ask_comments = total_ask_comments / len(ask_posts)\n",
    "print('Average number of \"ask\" posts is ', avg_ask_comments)\n",
    "\n",
    "\n",
    "total_show_comments = 0\n",
    "\n",
    "for row in show_posts:\n",
    "    total_show_comments += int(row[4])\n",
    "    \n",
    "avg_show_comments = total_show_comments / len(show_posts)\n",
    "print('Average number of \"show\" posts is ', avg_show_comments)\n",
    "\n",
    "\n",
    "\n"
   ]
  },
  {
   "cell_type": "markdown",
   "metadata": {},
   "source": [
    "Based on the analysis above, \"ask\" type posts receive more comments on average than \"show\" type posts."
   ]
  },
  {
   "cell_type": "markdown",
   "metadata": {},
   "source": [
    "Continuing analysis, focus on \"ask\" type posts because they receive more comments on average. Determine if there is a certain time more likely to attract comments. A check is performed at the end to verify dictionaries have populated correctly. "
   ]
  },
  {
   "cell_type": "code",
   "execution_count": 5,
   "metadata": {
    "scrolled": true
   },
   "outputs": [
    {
     "name": "stdout",
     "output_type": "stream",
     "text": [
      "Results list populated?\n",
      "\n",
      "\n",
      "[['8/16/2016 9:55', 6], ['11/22/2015 13:43', 29], ['5/2/2016 10:14', 1], ['8/2/2016 14:20', 3]]\n",
      "counts by hour\n",
      "9 46\n",
      "13 86\n",
      "10 60\n",
      "14 108\n",
      "16 109\n",
      "23 69\n",
      "12 74\n",
      "17 101\n",
      "15 117\n",
      "21 110\n",
      "20 81\n",
      "2 59\n",
      "18 110\n",
      "3 55\n",
      "5 47\n",
      "19 111\n",
      "1 61\n",
      "22 72\n",
      "8 49\n",
      "4 48\n",
      "0 56\n",
      "6 45\n",
      "7 35\n",
      "11 59\n",
      "\n",
      "\n",
      "comments by hour\n",
      "9 257\n",
      "13 1282\n",
      "10 794\n",
      "14 1419\n",
      "16 1831\n",
      "23 544\n",
      "12 691\n",
      "17 1147\n",
      "15 4478\n",
      "21 1749\n",
      "20 1724\n",
      "2 1384\n",
      "18 1441\n",
      "3 422\n",
      "5 493\n",
      "19 1191\n",
      "1 716\n",
      "22 481\n",
      "8 497\n",
      "4 340\n",
      "0 457\n",
      "6 398\n",
      "7 269\n",
      "11 643\n"
     ]
    }
   ],
   "source": [
    "import datetime as dt\n",
    "\n",
    "result_list = []\n",
    "\n",
    "for row in ask_posts:\n",
    "    number_of_comments = int(row[4])\n",
    "    create_date = row[6]\n",
    "    result_list.append([create_date,number_of_comments])\n",
    "\n",
    "print(\"Results list populated?\")\n",
    "print(\"\\n\")\n",
    "print(result_list[0:4])\n",
    "\n",
    "counts_by_hour = {}\n",
    "comments_by_hour = {}\n",
    "\n",
    "for row in result_list:\n",
    "    date_time_object = dt.datetime.strptime(row[0], \"%m/%d/%Y %H:%M\")\n",
    "       \n",
    "    #extract the hour\n",
    "    hour_only = date_time_object.hour\n",
    "    \n",
    "    if hour_only not in counts_by_hour:\n",
    "        counts_by_hour[hour_only] = 1\n",
    "        comments_by_hour[hour_only] = row[1]\n",
    "        \n",
    "    if hour_only in counts_by_hour:\n",
    "        counts_by_hour[hour_only] += 1\n",
    "        comments_by_hour[hour_only] += row[1]\n",
    "        \n",
    "#check \n",
    "print(\"counts by hour\")\n",
    "for key, value in counts_by_hour.items():\n",
    "    print(key, value)\n",
    "print(\"\\n\")\n",
    "print(\"comments by hour\")\n",
    "for key, value in comments_by_hour.items():\n",
    "    print(key, value)\n"
   ]
  },
  {
   "cell_type": "markdown",
   "metadata": {},
   "source": [
    "Identify for posts created during each hour of the day, the average number of comments per post. A check is performed at the end to ensure the list is populated correctly."
   ]
  },
  {
   "cell_type": "code",
   "execution_count": 6,
   "metadata": {},
   "outputs": [
    {
     "name": "stdout",
     "output_type": "stream",
     "text": [
      "List is not empty\n",
      "True\n"
     ]
    }
   ],
   "source": [
    "    \n",
    "comments_per_post = []\n",
    "\n",
    "for i in sorted (counts_by_hour.keys()):\n",
    "    comments_per_post.append([i, comments_by_hour[i]/counts_by_hour[i]])\n",
    "    \n",
    "#check\n",
    "print(\"List is not empty\")\n",
    "print(comments_per_post != None)"
   ]
  },
  {
   "cell_type": "markdown",
   "metadata": {},
   "source": [
    "Give the list easier readability. A check is performed at the beginning to ensure the list is populated correctly."
   ]
  },
  {
   "cell_type": "code",
   "execution_count": 7,
   "metadata": {
    "scrolled": true
   },
   "outputs": [
    {
     "name": "stdout",
     "output_type": "stream",
     "text": [
      "List is not empty\n",
      "True\n",
      "\n",
      "\n",
      "Top 5 Hours for Ask Posts Comments\n",
      "15:00 : 38.27\n",
      "02:00 : 23.46\n",
      "20:00 : 21.28\n",
      "16:00 : 16.80\n",
      "21:00 : 15.90\n"
     ]
    }
   ],
   "source": [
    "swap_avg_by_hour = []\n",
    "\n",
    "for item in comments_per_post:\n",
    "    swap_avg_by_hour.append([item[1], item[0]])\n",
    "\n",
    "sorted_swap = sorted(swap_avg_by_hour, reverse = True)\n",
    "print('List is not empty')\n",
    "#check\n",
    "print(sorted_swap != None)\n",
    "print('\\n')\n",
    "print(\"Top 5 Hours for Ask Posts Comments\")\n",
    "\n",
    "for item in sorted_swap[0:5]:\n",
    "    hour_datetime = dt.datetime.strptime(str(item[1]), \"%H\")\n",
    "    hour_string = hour_datetime.strftime(\"%H:%M\")\n",
    "    average_comments = item[0]\n",
    "    stuff = str('{:.2f}'.format(average_comments))\n",
    "    print(hour_string, \":\", stuff)\n",
    "\n"
   ]
  },
  {
   "cell_type": "markdown",
   "metadata": {},
   "source": [
    "### Conclusion"
   ]
  },
  {
   "cell_type": "markdown",
   "metadata": {},
   "source": [
    "Based on the analysis, \"ask\" type posts receive more comments on average than \"show\" type posts. For \"ask\" type posts, the top five hours to make comments for Ask Posts are 3:00pm PST, 2:00am PST, 8:00pm PST, 4:00pm PST, and 9:00pm PST. Possible reasons as to why these times are most active, most are afternoon or evening times when people on the West Coast of the United States would be awake. The singular 2:00am time could represent people who have insomnia or work swing shift and would post during early morning hour. "
   ]
  }
 ],
 "metadata": {
  "kernelspec": {
   "display_name": "Python 3",
   "language": "python",
   "name": "python3"
  },
  "language_info": {
   "codemirror_mode": {
    "name": "ipython",
    "version": 3
   },
   "file_extension": ".py",
   "mimetype": "text/x-python",
   "name": "python",
   "nbconvert_exporter": "python",
   "pygments_lexer": "ipython3",
   "version": "3.7.6"
  }
 },
 "nbformat": 4,
 "nbformat_minor": 2
}
